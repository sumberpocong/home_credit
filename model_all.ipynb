{
 "cells": [
  {
   "cell_type": "markdown",
   "id": "athletic-niagara",
   "metadata": {
    "papermill": {
     "duration": 0.009162,
     "end_time": "2021-05-30T07:58:57.941070",
     "exception": false,
     "start_time": "2021-05-30T07:58:57.931908",
     "status": "completed"
    },
    "tags": []
   },
   "source": [
    "<div><img src=\"https://storage.googleapis.com/kaggle-competitions/kaggle/9120/logos/header.png?t=2018-04-02-23-51-59\"></img></div>\n",
    "\n",
    "<img src=\"https://storage.googleapis.com/kaggle-competitions/kaggle/9120/logos/thumb76_76.png?t=2018-04-02-23-45-04\" align=\"left\" width = \"100px\"/>\n",
    "\n",
    "<h1> Home Credit Default Risk Step by Step: 2nd Notebook</h1>\n",
    "\n",
    "<div style=\"clear:both\"></div>\n",
    "\n",
    "<br>\n",
    "\n",
    "[Home Credit Default Risk Step by Step: 1st Notebook](https://www.kaggle.com/ekrembayar/homecredit-default-risk-step-by-step-1st-notebook)\n"
   ]
  },
  {
   "cell_type": "markdown",
   "id": "wrapped-following",
   "metadata": {
    "papermill": {
     "duration": 0.00779,
     "end_time": "2021-05-30T07:58:57.957050",
     "exception": false,
     "start_time": "2021-05-30T07:58:57.949260",
     "status": "completed"
    },
    "tags": []
   },
   "source": [
    "# 1. PACKAGES"
   ]
  },
  {
   "cell_type": "code",
   "execution_count": 2,
   "id": "noted-button",
   "metadata": {
    "ExecuteTime": {
     "end_time": "2022-07-31T10:42:58.294075Z",
     "start_time": "2022-07-31T10:42:54.103746Z"
    },
    "execution": {
     "iopub.execute_input": "2021-05-30T07:58:57.977423Z",
     "iopub.status.busy": "2021-05-30T07:58:57.976250Z",
     "iopub.status.idle": "2021-05-30T07:59:00.193341Z",
     "shell.execute_reply": "2021-05-30T07:59:00.192417Z",
     "shell.execute_reply.started": "2021-05-30T06:58:54.065820Z"
    },
    "papermill": {
     "duration": 2.228459,
     "end_time": "2021-05-30T07:59:00.193572",
     "exception": false,
     "start_time": "2021-05-30T07:58:57.965113",
     "status": "completed"
    },
    "tags": []
   },
   "outputs": [],
   "source": [
    "# 1. PACKAGES\n",
    "# -----------------------------------------------------------\n",
    "# Base\n",
    "import numpy as np\n",
    "import pandas as pd\n",
    "import matplotlib.pyplot as plt\n",
    "import seaborn as sns\n",
    "import re\n",
    "\n",
    "# Model\n",
    "from lightgbm import LGBMClassifier\n",
    "from sklearn.metrics import roc_auc_score\n",
    "\n",
    "# Configuration\n",
    "import warnings\n",
    "warnings.filterwarnings('ignore')\n",
    "pd.set_option('display.max_columns', None)\n",
    "pd.options.display.float_format = '{:,.2f}'.format"
   ]
  },
  {
   "cell_type": "markdown",
   "id": "technical-england",
   "metadata": {
    "papermill": {
     "duration": 0.009078,
     "end_time": "2021-05-30T07:59:00.212527",
     "exception": false,
     "start_time": "2021-05-30T07:59:00.203449",
     "status": "completed"
    },
    "tags": []
   },
   "source": [
    "# 2. DATA"
   ]
  },
  {
   "cell_type": "code",
   "execution_count": 3,
   "id": "latest-empire",
   "metadata": {
    "ExecuteTime": {
     "end_time": "2022-07-31T10:55:33.314291Z",
     "start_time": "2022-07-31T10:42:58.294075Z"
    },
    "execution": {
     "iopub.execute_input": "2021-05-30T07:59:00.239365Z",
     "iopub.status.busy": "2021-05-30T07:59:00.238680Z",
     "iopub.status.idle": "2021-05-30T08:00:16.654565Z",
     "shell.execute_reply": "2021-05-30T08:00:16.655164Z",
     "shell.execute_reply.started": "2021-05-30T06:58:55.542009Z"
    },
    "papermill": {
     "duration": 76.433713,
     "end_time": "2021-05-30T08:00:16.655541",
     "exception": false,
     "start_time": "2021-05-30T07:59:00.221828",
     "status": "completed"
    },
    "tags": []
   },
   "outputs": [
    {
     "name": "stdout",
     "output_type": "stream",
     "text": [
      "(356249, 145) (337252, 23) (305811, 456) (103558, 117) (339587, 49) (338857, 378)\n",
      "(356249, 1163)\n"
     ]
    }
   ],
   "source": [
    "df = pd.read_feather(\"input/applications_traintest_feather\")\n",
    "pos = pd.read_feather(\"input/poscashbalance_agg_feather\")\n",
    "bb = pd.read_feather(\"input/bureau_bureaubalance_agg_feather\")\n",
    "cc = pd.read_feather(\"input/cc_feather\")\n",
    "ins = pd.read_feather(\"input/installments_payments_agg_feather\")\n",
    "prev = pd.read_feather(\"input/previous_applications_agg_feather\")\n",
    "\n",
    "print(df.shape, pos.shape, bb.shape, cc.shape, ins.shape, prev.shape)\n",
    "\n",
    "for i in [pos, bb, cc, ins, prev]:\n",
    "    df = pd.merge(df, i , how = \"left\", on = \"SK_ID_CURR\")\n",
    "    \n",
    "print(df.shape)\n",
    "\n",
    "del pos, bb, ins, cc, prev"
   ]
  },
  {
   "cell_type": "markdown",
   "id": "tamil-crack",
   "metadata": {
    "papermill": {
     "duration": 0.009183,
     "end_time": "2021-05-30T08:00:16.674288",
     "exception": false,
     "start_time": "2021-05-30T08:00:16.665105",
     "status": "completed"
    },
    "tags": []
   },
   "source": [
    "# 3. TRAIN-TEST SPLIT"
   ]
  },
  {
   "cell_type": "code",
   "execution_count": 4,
   "id": "b6b7003d",
   "metadata": {
    "ExecuteTime": {
     "end_time": "2022-07-31T11:02:35.450740Z",
     "start_time": "2022-07-31T10:55:44.512753Z"
    }
   },
   "outputs": [],
   "source": [
    "# Train-Test Split\n",
    "df.columns = list(map(lambda x: str(x).replace(\" \", \"_\").replace(\"-\", \"_\").replace(\"_/_\", \"_\").upper(), df.columns))\n",
    "\n",
    "df = df.rename(columns = lambda x:re.sub('[^A-Za-z0-9_]+', '', x))"
   ]
  },
  {
   "cell_type": "code",
   "execution_count": 6,
   "id": "8ab960e9",
   "metadata": {
    "ExecuteTime": {
     "end_time": "2022-07-31T11:11:45.740526Z",
     "start_time": "2022-07-31T11:07:53.036224Z"
    }
   },
   "outputs": [],
   "source": [
    "df.to_csv(\"df.csv\")"
   ]
  },
  {
   "cell_type": "code",
   "execution_count": 14,
   "id": "716a9394",
   "metadata": {
    "ExecuteTime": {
     "end_time": "2022-07-31T06:00:48.393325Z",
     "start_time": "2022-07-31T06:00:07.267828Z"
    }
   },
   "outputs": [],
   "source": [
    "train = df[df.TARGET.isnull() == False]\n",
    "test = df[df.TARGET.isnull()]\n",
    "\n",
    "x_train = train.drop([\"TARGET\", \"SK_ID_CURR\"], axis = 1)\n",
    "x_test = test.drop([\"TARGET\", \"SK_ID_CURR\"], axis = 1)\n",
    "y_train = train.TARGET"
   ]
  },
  {
   "cell_type": "markdown",
   "id": "supposed-farmer",
   "metadata": {
    "papermill": {
     "duration": 0.010145,
     "end_time": "2021-05-30T08:00:21.709095",
     "exception": false,
     "start_time": "2021-05-30T08:00:21.698950",
     "status": "completed"
    },
    "tags": []
   },
   "source": [
    "# 4. MODEL"
   ]
  },
  {
   "cell_type": "code",
   "execution_count": 17,
   "id": "bulgarian-kelly",
   "metadata": {
    "ExecuteTime": {
     "end_time": "2022-07-31T08:33:33.944427Z",
     "start_time": "2022-07-31T07:23:52.433243Z"
    },
    "execution": {
     "iopub.execute_input": "2021-05-30T08:00:21.735661Z",
     "iopub.status.busy": "2021-05-30T08:00:21.734924Z",
     "iopub.status.idle": "2021-05-30T09:18:25.676774Z",
     "shell.execute_reply": "2021-05-30T09:18:25.677273Z",
     "shell.execute_reply.started": "2021-05-30T07:00:33.453427Z"
    },
    "papermill": {
     "duration": 4683.959006,
     "end_time": "2021-05-30T09:18:25.677721",
     "exception": false,
     "start_time": "2021-05-30T08:00:21.718715",
     "status": "completed"
    },
    "tags": []
   },
   "outputs": [
    {
     "name": "stdout",
     "output_type": "stream",
     "text": [
      "[LightGBM] [Warning] num_threads is set with n_jobs=-1, nthread=4 will be ignored. Current value: num_threads=-1\n",
      "[200]\ttraining's auc: 0.797076\ttraining's binary_logloss: 0.234734\n",
      "[400]\ttraining's auc: 0.819584\ttraining's binary_logloss: 0.225428\n",
      "[600]\ttraining's auc: 0.834733\ttraining's binary_logloss: 0.21924\n",
      "[800]\ttraining's auc: 0.846919\ttraining's binary_logloss: 0.21424\n",
      "[1000]\ttraining's auc: 0.857601\ttraining's binary_logloss: 0.209715\n",
      "[1200]\ttraining's auc: 0.86689\ttraining's binary_logloss: 0.205642\n",
      "[1400]\ttraining's auc: 0.875547\ttraining's binary_logloss: 0.201722\n",
      "[1600]\ttraining's auc: 0.883358\ttraining's binary_logloss: 0.198045\n",
      "[1800]\ttraining's auc: 0.890851\ttraining's binary_logloss: 0.194439\n",
      "[2000]\ttraining's auc: 0.897459\ttraining's binary_logloss: 0.191084\n",
      "[2200]\ttraining's auc: 0.903979\ttraining's binary_logloss: 0.187685\n",
      "[2400]\ttraining's auc: 0.909949\ttraining's binary_logloss: 0.184463\n",
      "[2600]\ttraining's auc: 0.915468\ttraining's binary_logloss: 0.181372\n",
      "[2800]\ttraining's auc: 0.920886\ttraining's binary_logloss: 0.17827\n",
      "[3000]\ttraining's auc: 0.925843\ttraining's binary_logloss: 0.175351\n",
      "[3200]\ttraining's auc: 0.930446\ttraining's binary_logloss: 0.172473\n",
      "[3400]\ttraining's auc: 0.93464\ttraining's binary_logloss: 0.1697\n",
      "[3600]\ttraining's auc: 0.938398\ttraining's binary_logloss: 0.167167\n",
      "[3800]\ttraining's auc: 0.942329\ttraining's binary_logloss: 0.164417\n",
      "[4000]\ttraining's auc: 0.94583\ttraining's binary_logloss: 0.161861\n",
      "[4200]\ttraining's auc: 0.949078\ttraining's binary_logloss: 0.159402\n",
      "[4400]\ttraining's auc: 0.952189\ttraining's binary_logloss: 0.156942\n",
      "[4600]\ttraining's auc: 0.954973\ttraining's binary_logloss: 0.154653\n",
      "[4800]\ttraining's auc: 0.957749\ttraining's binary_logloss: 0.152222\n",
      "[5000]\ttraining's auc: 0.960446\ttraining's binary_logloss: 0.149871\n",
      "[5200]\ttraining's auc: 0.963023\ttraining's binary_logloss: 0.147493\n",
      "[5400]\ttraining's auc: 0.965389\ttraining's binary_logloss: 0.145199\n",
      "[5600]\ttraining's auc: 0.96764\ttraining's binary_logloss: 0.142983\n",
      "[5800]\ttraining's auc: 0.969727\ttraining's binary_logloss: 0.14077\n",
      "[6000]\ttraining's auc: 0.971519\ttraining's binary_logloss: 0.138809\n",
      "[6200]\ttraining's auc: 0.973378\ttraining's binary_logloss: 0.136697\n",
      "[6400]\ttraining's auc: 0.975196\ttraining's binary_logloss: 0.13456\n",
      "[6600]\ttraining's auc: 0.976659\ttraining's binary_logloss: 0.132669\n",
      "[6800]\ttraining's auc: 0.978167\ttraining's binary_logloss: 0.130687\n",
      "[7000]\ttraining's auc: 0.979535\ttraining's binary_logloss: 0.128828\n",
      "[7200]\ttraining's auc: 0.980858\ttraining's binary_logloss: 0.126928\n",
      "[7400]\ttraining's auc: 0.982108\ttraining's binary_logloss: 0.125028\n",
      "[7600]\ttraining's auc: 0.983311\ttraining's binary_logloss: 0.123113\n",
      "[7800]\ttraining's auc: 0.984342\ttraining's binary_logloss: 0.1213\n",
      "[8000]\ttraining's auc: 0.985265\ttraining's binary_logloss: 0.119581\n",
      "[8200]\ttraining's auc: 0.986217\ttraining's binary_logloss: 0.117815\n",
      "[8400]\ttraining's auc: 0.987101\ttraining's binary_logloss: 0.116186\n",
      "[8600]\ttraining's auc: 0.988016\ttraining's binary_logloss: 0.114444\n",
      "[8800]\ttraining's auc: 0.988817\ttraining's binary_logloss: 0.112764\n",
      "[9000]\ttraining's auc: 0.989505\ttraining's binary_logloss: 0.111229\n",
      "[9200]\ttraining's auc: 0.99016\ttraining's binary_logloss: 0.109656\n",
      "[9400]\ttraining's auc: 0.990809\ttraining's binary_logloss: 0.108045\n",
      "[9600]\ttraining's auc: 0.991422\ttraining's binary_logloss: 0.106483\n",
      "[9800]\ttraining's auc: 0.991968\ttraining's binary_logloss: 0.104985\n",
      "[10000]\ttraining's auc: 0.992478\ttraining's binary_logloss: 0.103487\n",
      "[10200]\ttraining's auc: 0.993037\ttraining's binary_logloss: 0.101879\n",
      "[10400]\ttraining's auc: 0.993508\ttraining's binary_logloss: 0.100455\n",
      "[10600]\ttraining's auc: 0.99388\ttraining's binary_logloss: 0.0991663\n",
      "[10800]\ttraining's auc: 0.99429\ttraining's binary_logloss: 0.097699\n",
      "[11000]\ttraining's auc: 0.994679\ttraining's binary_logloss: 0.0963267\n",
      "[11200]\ttraining's auc: 0.995027\ttraining's binary_logloss: 0.0949778\n",
      "[11400]\ttraining's auc: 0.995379\ttraining's binary_logloss: 0.0935842\n"
     ]
    },
    {
     "data": {
      "text/plain": [
       "LGBMClassifier(colsample_bytree=0.949, learning_rate=0.02, max_depth=8,\n",
       "               min_child_weight=39, min_split_gain=0.02, n_estimators=11500,\n",
       "               nthread=4, num_leaves=34, reg_alpha=0.041, reg_lambda=0.07,\n",
       "               silent=-1, subsample=0.8, verbose=-1)"
      ]
     },
     "execution_count": 17,
     "metadata": {},
     "output_type": "execute_result"
    }
   ],
   "source": [
    "# LightGBM parameters found by Bayesian optimization\n",
    "clf = LGBMClassifier(\n",
    "    nthread=4,\n",
    "    n_estimators=11500,\n",
    "    learning_rate=0.02,\n",
    "    num_leaves=34,\n",
    "    colsample_bytree=0.949,\n",
    "    subsample=0.8,\n",
    "    max_depth=8,\n",
    "    reg_alpha=0.041,\n",
    "    reg_lambda=0.07,\n",
    "    min_split_gain=0.02,\n",
    "    min_child_weight=39,\n",
    "    silent=-1,\n",
    "    verbose=-1, )\n",
    "\n",
    "clf.fit(x_train, y_train, eval_set=[(x_train, y_train)],\n",
    "        eval_metric='auc', verbose=200)\n"
   ]
  },
  {
   "cell_type": "markdown",
   "id": "brutal-mountain",
   "metadata": {
    "papermill": {
     "duration": 0.024733,
     "end_time": "2021-05-30T09:18:25.727606",
     "exception": false,
     "start_time": "2021-05-30T09:18:25.702873",
     "status": "completed"
    },
    "tags": []
   },
   "source": [
    "# 5. Predict"
   ]
  },
  {
   "cell_type": "code",
   "execution_count": 18,
   "id": "handy-length",
   "metadata": {
    "ExecuteTime": {
     "end_time": "2022-07-31T08:34:35.100479Z",
     "start_time": "2022-07-31T08:34:00.565951Z"
    },
    "execution": {
     "iopub.execute_input": "2021-05-30T09:18:25.785198Z",
     "iopub.status.busy": "2021-05-30T09:18:25.784573Z",
     "iopub.status.idle": "2021-05-30T09:18:59.858718Z",
     "shell.execute_reply": "2021-05-30T09:18:59.858087Z",
     "shell.execute_reply.started": "2021-05-30T07:04:37.102680Z"
    },
    "papermill": {
     "duration": 34.106489,
     "end_time": "2021-05-30T09:18:59.858887",
     "exception": false,
     "start_time": "2021-05-30T09:18:25.752398",
     "status": "completed"
    },
    "tags": []
   },
   "outputs": [],
   "source": [
    "submission = pd.DataFrame({\n",
    "    \"SK_ID_CURR\": test.SK_ID_CURR,\n",
    "    \"TARGET\": clf.predict_proba(x_test)[:,1]\n",
    "})\n",
    "submission.to_csv(\"predict.csv\", index = None)"
   ]
  }
 ],
 "metadata": {
  "kernelspec": {
   "display_name": "Python 3 (ipykernel)",
   "language": "python",
   "name": "python3"
  },
  "language_info": {
   "codemirror_mode": {
    "name": "ipython",
    "version": 3
   },
   "file_extension": ".py",
   "mimetype": "text/x-python",
   "name": "python",
   "nbconvert_exporter": "python",
   "pygments_lexer": "ipython3",
   "version": "3.9.12"
  },
  "papermill": {
   "default_parameters": {},
   "duration": 4811.135698,
   "end_time": "2021-05-30T09:19:00.997950",
   "environment_variables": {},
   "exception": null,
   "input_path": "__notebook__.ipynb",
   "output_path": "__notebook__.ipynb",
   "parameters": {},
   "start_time": "2021-05-30T07:58:49.862252",
   "version": "2.3.3"
  }
 },
 "nbformat": 4,
 "nbformat_minor": 5
}
